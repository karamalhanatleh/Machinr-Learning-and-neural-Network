{
 "cells": [
  {
   "cell_type": "markdown",
   "id": "8e18c41f",
   "metadata": {},
   "source": [
    "# Perceptron Learning "
   ]
  },
  {
   "cell_type": "code",
   "execution_count": 3,
   "id": "a2312b50",
   "metadata": {},
   "outputs": [],
   "source": [
    "import numpy as np"
   ]
  },
  {
   "cell_type": "code",
   "execution_count": 4,
   "id": "0ed6ed57",
   "metadata": {},
   "outputs": [],
   "source": [
    "#threshold\n",
    "def activation (z):\n",
    "    if z>0:\n",
    "        return 1\n",
    "    return 0"
   ]
  },
  {
   "cell_type": "code",
   "execution_count": 9,
   "id": "b7113192",
   "metadata": {},
   "outputs": [
    {
     "name": "stdout",
     "output_type": "stream",
     "text": [
      "0 And 0 :  0\n",
      "1 and 0 :  0\n",
      "0 and 1 :  0\n"
     ]
    }
   ],
   "source": [
    "# for And implement perception ::::\n",
    "w= np.array([1,1])\n",
    "b= - 1\n",
    "\n",
    "x=np.array([0,0])\n",
    "print(\"0 And 0 : \",activation( w.dot(x)+b  ))\n",
    "\n",
    "x=np.array([1,0])\n",
    "print(\"1 and 0 : \",activation(w.dot(x)+b) )\n",
    "\n",
    "x=np.array([0,1])\n",
    "print(\"0 and 1 : \",activation(w.dot(x)+b))\n",
    "\n",
    "x=np.array([])"
   ]
  },
  {
   "cell_type": "code",
   "execution_count": null,
   "id": "4423b9fe",
   "metadata": {},
   "outputs": [],
   "source": []
  },
  {
   "cell_type": "code",
   "execution_count": null,
   "id": "fe663b34",
   "metadata": {},
   "outputs": [],
   "source": []
  }
 ],
 "metadata": {
  "kernelspec": {
   "display_name": "Python 3 (ipykernel)",
   "language": "python",
   "name": "python3"
  },
  "language_info": {
   "codemirror_mode": {
    "name": "ipython",
    "version": 3
   },
   "file_extension": ".py",
   "mimetype": "text/x-python",
   "name": "python",
   "nbconvert_exporter": "python",
   "pygments_lexer": "ipython3",
   "version": "3.9.13"
  }
 },
 "nbformat": 4,
 "nbformat_minor": 5
}
