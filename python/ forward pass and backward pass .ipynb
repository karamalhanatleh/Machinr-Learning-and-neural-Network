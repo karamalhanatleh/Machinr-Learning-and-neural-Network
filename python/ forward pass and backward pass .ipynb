{
 "cells": [
  {
   "cell_type": "code",
   "execution_count": null,
   "id": "c4a6894d",
   "metadata": {},
   "outputs": [],
   "source": []
  },
  {
   "cell_type": "code",
   "execution_count": 2,
   "id": "e4aee26d",
   "metadata": {},
   "outputs": [],
   "source": [
    "#import \n",
    "import numpy as np"
   ]
  },
  {
   "cell_type": "code",
   "execution_count": 3,
   "id": "58115d8c",
   "metadata": {},
   "outputs": [],
   "source": [
    "# Sigmoid activation function and its derivative\n",
    "\n",
    "def sigmoid(x):\n",
    "    return 1 / (1 + np.exp(-x))\n",
    "\n",
    "def sigmoid_derivative(x):\n",
    "    return x * (1 - x)"
   ]
  },
  {
   "cell_type": "code",
   "execution_count": 24,
   "id": "fb3f8a18",
   "metadata": {},
   "outputs": [
    {
     "data": {
      "text/plain": [
       "0.655318370173895"
      ]
     },
     "execution_count": 24,
     "metadata": {},
     "output_type": "execute_result"
    }
   ],
   "source": [
    "sigmoid(0.6425)"
   ]
  },
  {
   "cell_type": "code",
   "execution_count": 16,
   "id": "0c1a2972",
   "metadata": {},
   "outputs": [],
   "source": [
    "#Forward pass\n",
    "def forward_pass(inputs, weights_input_hidden, weights_hidden_output, bias_hidden, bias_output):\n",
    "    # Input layer to hidden layer\n",
    "    hidden_layer_input = np.dot(inputs, weights_input_hidden) + bias_hidden\n",
    "    hidden_layer_activation = sigmoid(hidden_layer_input)\n",
    "\n",
    "    # Hidden layer to output layer\n",
    "    output_layer_input = np.dot(hidden_layer_activation, weights_hidden_output) + bias_output\n",
    "    output = sigmoid(output_layer_input)\n",
    "\n",
    "    return hidden_layer_activation, output"
   ]
  },
  {
   "cell_type": "code",
   "execution_count": 17,
   "id": "a76a376f",
   "metadata": {},
   "outputs": [],
   "source": [
    "#Backward\n",
    "def backward_pass(inputs ,  hidden_layer_activation , output , target ,weights_output_hidden ):\n",
    "    #compute error to output layer\n",
    "    \n",
    "    output_error =  target-output\n",
    "    output_delta = output_error  *  sigmoid_derivative(output)\n",
    "    \n",
    "    \n",
    "    #compute error to hiddent layer\n",
    "    \n",
    "    hidden_error = np.dot(output_delta  ,weights_output_hidden.T)\n",
    "    \n",
    "    hidden_delta = hidden_error* sigmoid_derivative(hidden_layer_activation)\n",
    "    \n",
    "    return output_delta , hidden_delta"
   ]
  },
  {
   "cell_type": "code",
   "execution_count": null,
   "id": "064202b1",
   "metadata": {},
   "outputs": [],
   "source": []
  },
  {
   "cell_type": "code",
   "execution_count": 18,
   "id": "17280e73",
   "metadata": {},
   "outputs": [],
   "source": [
    "# Example inputs, weights, and biases\n",
    "inputs = np.array([0.8, 0.6, 0.4])\n",
    "weights_input_hidden = np.array([[0.5, -0.3, 0.1],\n",
    "                                 [0.2, 0.1, -0.4],\n",
    "                                 [0.6, 0.2, -0.5]])\n",
    "weights_hidden_output = np.array([[0.3], [-0.2], [0.7]])\n",
    "bias_hidden = np.array([0.1, -0.2, 0.3])\n",
    "bias_output = np.array([0.4])\n"
   ]
  },
  {
   "cell_type": "code",
   "execution_count": 19,
   "id": "0e1a64a1",
   "metadata": {},
   "outputs": [],
   "source": [
    "# Target value for the output\n",
    "target_output = 0.9"
   ]
  },
  {
   "cell_type": "code",
   "execution_count": 20,
   "id": "91634237",
   "metadata": {},
   "outputs": [],
   "source": [
    "# Forward pass to get the output\n",
    "hidden_activation, output_activation = forward_pass(inputs, weights_input_hidden, weights_hidden_output, bias_hidden, bias_output)"
   ]
  },
  {
   "cell_type": "code",
   "execution_count": 22,
   "id": "71eed572",
   "metadata": {},
   "outputs": [],
   "source": [
    "# Backward pass to compute gradients\n",
    "output_delta, hidden_delta = backward_pass(inputs, hidden_activation, output_activation, target_output, weights_hidden_output)\n"
   ]
  },
  {
   "cell_type": "code",
   "execution_count": null,
   "id": "0485669f",
   "metadata": {},
   "outputs": [],
   "source": []
  },
  {
   "cell_type": "code",
   "execution_count": 23,
   "id": "3fb12784",
   "metadata": {},
   "outputs": [
    {
     "name": "stdout",
     "output_type": "stream",
     "text": [
      "Forward pass output: [0.70374382]\n",
      "Output delta: [0.04091715]\n",
      "Hidden delta: [ 0.00256463 -0.00200051  0.00715406]\n"
     ]
    }
   ],
   "source": [
    "# Print the results\n",
    "print(\"Forward pass output:\", output_activation)\n",
    "print(\"Output delta:\", output_delta)\n",
    "print(\"Hidden delta:\", hidden_delta)"
   ]
  },
  {
   "cell_type": "code",
   "execution_count": null,
   "id": "cb890487",
   "metadata": {},
   "outputs": [],
   "source": []
  }
 ],
 "metadata": {
  "kernelspec": {
   "display_name": "Python 3 (ipykernel)",
   "language": "python",
   "name": "python3"
  },
  "language_info": {
   "codemirror_mode": {
    "name": "ipython",
    "version": 3
   },
   "file_extension": ".py",
   "mimetype": "text/x-python",
   "name": "python",
   "nbconvert_exporter": "python",
   "pygments_lexer": "ipython3",
   "version": "3.9.13"
  }
 },
 "nbformat": 4,
 "nbformat_minor": 5
}
