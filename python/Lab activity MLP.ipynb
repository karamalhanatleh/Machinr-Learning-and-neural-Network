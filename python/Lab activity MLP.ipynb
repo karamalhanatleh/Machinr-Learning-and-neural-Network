{
 "cells": [
  {
   "cell_type": "markdown",
   "id": "d381d8c0",
   "metadata": {},
   "source": [
    "# Lab activity MLP"
   ]
  },
  {
   "cell_type": "code",
   "execution_count": 4,
   "id": "f8bcfae4",
   "metadata": {},
   "outputs": [],
   "source": [
    "#import paskages\n",
    "import numpy as np"
   ]
  },
  {
   "cell_type": "code",
   "execution_count": 14,
   "id": "20bbaa54",
   "metadata": {},
   "outputs": [],
   "source": [
    "#weights\n",
    "w=np.array([[0.11 , 0.12  ],[0.21, 0.08]])"
   ]
  },
  {
   "cell_type": "code",
   "execution_count": null,
   "id": "e98f0de9",
   "metadata": {},
   "outputs": [],
   "source": []
  },
  {
   "cell_type": "code",
   "execution_count": 15,
   "id": "02388161",
   "metadata": {
    "scrolled": false
   },
   "outputs": [
    {
     "data": {
      "text/plain": [
       "array([[2],\n",
       "       [3]])"
      ]
     },
     "execution_count": 15,
     "metadata": {},
     "output_type": "execute_result"
    }
   ],
   "source": [
    "#inputs data \n",
    "X=np.array([[2],[3]])\n",
    "X"
   ]
  },
  {
   "cell_type": "code",
   "execution_count": 16,
   "id": "22da9f12",
   "metadata": {},
   "outputs": [],
   "source": [
    "#Y\n",
    "y=1 "
   ]
  },
  {
   "cell_type": "code",
   "execution_count": 17,
   "id": "0094e1ff",
   "metadata": {},
   "outputs": [],
   "source": [
    "#alpha =a \n",
    "a= 0.05"
   ]
  },
  {
   "cell_type": "code",
   "execution_count": 18,
   "id": "3447b4e8",
   "metadata": {},
   "outputs": [
    {
     "data": {
      "text/plain": [
       "(2, 1)"
      ]
     },
     "execution_count": 18,
     "metadata": {},
     "output_type": "execute_result"
    }
   ],
   "source": [
    "X.shape"
   ]
  },
  {
   "cell_type": "code",
   "execution_count": null,
   "id": "27cc3fe7",
   "metadata": {},
   "outputs": [],
   "source": []
  },
  {
   "cell_type": "code",
   "execution_count": null,
   "id": "6aa32b6e",
   "metadata": {},
   "outputs": [],
   "source": []
  },
  {
   "cell_type": "code",
   "execution_count": 47,
   "id": "201fe717",
   "metadata": {
    "scrolled": true
   },
   "outputs": [
    {
     "data": {
      "text/plain": [
       "-0.04"
      ]
     },
     "execution_count": 47,
     "metadata": {},
     "output_type": "execute_result"
    }
   ],
   "source": [
    "b=round(0.05*(-0.809),3)\n",
    "b"
   ]
  },
  {
   "cell_type": "code",
   "execution_count": 48,
   "id": "621d1490",
   "metadata": {},
   "outputs": [],
   "source": [
    "V=np.array([0.14,0.15])"
   ]
  },
  {
   "cell_type": "code",
   "execution_count": null,
   "id": "3483fb1b",
   "metadata": {},
   "outputs": [],
   "source": []
  },
  {
   "cell_type": "code",
   "execution_count": 49,
   "id": "64ec9f56",
   "metadata": {},
   "outputs": [],
   "source": [
    "wn=np.round(b*(X*V),3)"
   ]
  },
  {
   "cell_type": "code",
   "execution_count": 50,
   "id": "6a6fe225",
   "metadata": {},
   "outputs": [
    {
     "data": {
      "text/plain": [
       "array([[-0.011, -0.012],\n",
       "       [-0.017, -0.018]])"
      ]
     },
     "execution_count": 50,
     "metadata": {},
     "output_type": "execute_result"
    }
   ],
   "source": [
    "wn"
   ]
  },
  {
   "cell_type": "code",
   "execution_count": null,
   "id": "3be76ddf",
   "metadata": {},
   "outputs": [],
   "source": []
  },
  {
   "cell_type": "code",
   "execution_count": 53,
   "id": "e43d7795",
   "metadata": {},
   "outputs": [
    {
     "data": {
      "text/plain": [
       "array([[0.12, 0.13],\n",
       "       [0.23, 0.1 ]])"
      ]
     },
     "execution_count": 53,
     "metadata": {},
     "output_type": "execute_result"
    }
   ],
   "source": [
    "np.round(w- wn,2)"
   ]
  },
  {
   "cell_type": "code",
   "execution_count": null,
   "id": "64a3a3bb",
   "metadata": {},
   "outputs": [],
   "source": []
  },
  {
   "cell_type": "code",
   "execution_count": null,
   "id": "41006e6d",
   "metadata": {},
   "outputs": [],
   "source": []
  }
 ],
 "metadata": {
  "kernelspec": {
   "display_name": "Python 3 (ipykernel)",
   "language": "python",
   "name": "python3"
  },
  "language_info": {
   "codemirror_mode": {
    "name": "ipython",
    "version": 3
   },
   "file_extension": ".py",
   "mimetype": "text/x-python",
   "name": "python",
   "nbconvert_exporter": "python",
   "pygments_lexer": "ipython3",
   "version": "3.9.13"
  }
 },
 "nbformat": 4,
 "nbformat_minor": 5
}
