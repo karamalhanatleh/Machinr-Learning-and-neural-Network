{
 "cells": [
  {
   "cell_type": "markdown",
   "id": "b0581665",
   "metadata": {},
   "source": [
    "# simple python code that implements perceptron"
   ]
  },
  {
   "cell_type": "code",
   "execution_count": 1,
   "id": "ea08eb8c",
   "metadata": {},
   "outputs": [],
   "source": [
    "#import paskages\n",
    "import numpy as np"
   ]
  },
  {
   "cell_type": "code",
   "execution_count": 7,
   "id": "4c043ea4",
   "metadata": {},
   "outputs": [],
   "source": [
    "X = np.array([[-1, 2], [-2, -2], [1, -1], [-3, 1]])\n",
    "Y = np.array([-1, 1, 1, -1])\n",
    "W = np.array([0, 0])\n",
    "b = 0"
   ]
  },
  {
   "cell_type": "code",
   "execution_count": 9,
   "id": "bede493d",
   "metadata": {},
   "outputs": [],
   "source": [
    "for i in range(len(X)):\n",
    "    y_pred = np.dot(X[i], W) + b\n",
    "    if y_pred >= 0:\n",
    "        y_pred = 1\n",
    "    else:\n",
    "        y_pred = -1\n",
    "\n",
    "    if y_pred == Y[i]:\n",
    "        continue\n",
    "    else:\n",
    "        W = W + Y[i] * X[i]\n",
    "        b = b + Y[i]"
   ]
  },
  {
   "cell_type": "code",
   "execution_count": 11,
   "id": "e9165923",
   "metadata": {},
   "outputs": [
    {
     "data": {
      "text/plain": [
       "array([ 1, -2])"
      ]
     },
     "execution_count": 11,
     "metadata": {},
     "output_type": "execute_result"
    }
   ],
   "source": [
    "W"
   ]
  },
  {
   "cell_type": "code",
   "execution_count": null,
   "id": "a758f4f8",
   "metadata": {},
   "outputs": [],
   "source": []
  }
 ],
 "metadata": {
  "kernelspec": {
   "display_name": "Python 3 (ipykernel)",
   "language": "python",
   "name": "python3"
  },
  "language_info": {
   "codemirror_mode": {
    "name": "ipython",
    "version": 3
   },
   "file_extension": ".py",
   "mimetype": "text/x-python",
   "name": "python",
   "nbconvert_exporter": "python",
   "pygments_lexer": "ipython3",
   "version": "3.9.13"
  }
 },
 "nbformat": 4,
 "nbformat_minor": 5
}
