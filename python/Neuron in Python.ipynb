{
 "cells": [
  {
   "cell_type": "markdown",
   "id": "c75d3112",
   "metadata": {},
   "source": [
    "Example in Python of a neuron with a sigmoid activation function\n"
   ]
  },
  {
   "cell_type": "code",
   "execution_count": 1,
   "id": "ff785a95",
   "metadata": {},
   "outputs": [],
   "source": [
    "#import packages\n",
    "import numpy as np"
   ]
  },
  {
   "cell_type": "code",
   "execution_count": 3,
   "id": "1233b75d",
   "metadata": {},
   "outputs": [],
   "source": [
    "class Neuron(object):\n",
    "    def forward(inputs):\n",
    "        \"\"\" asume input and weights are 1-D numpy arrays and bias is a number  \"\"\"\n",
    "        cell_body_sum = np.sum(inputs *self.weights) + self.bias\n",
    "        \n",
    "        firing_rate =1.0 / (1.0 +math.exp(-cell_body_sum))\n",
    "        \n",
    "        return firing_rate"
   ]
  },
  {
   "cell_type": "code",
   "execution_count": null,
   "id": "479939fc",
   "metadata": {},
   "outputs": [],
   "source": []
  }
 ],
 "metadata": {
  "kernelspec": {
   "display_name": "Python 3 (ipykernel)",
   "language": "python",
   "name": "python3"
  },
  "language_info": {
   "codemirror_mode": {
    "name": "ipython",
    "version": 3
   },
   "file_extension": ".py",
   "mimetype": "text/x-python",
   "name": "python",
   "nbconvert_exporter": "python",
   "pygments_lexer": "ipython3",
   "version": "3.9.13"
  }
 },
 "nbformat": 4,
 "nbformat_minor": 5
}
