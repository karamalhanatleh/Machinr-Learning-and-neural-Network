{
 "cells": [
  {
   "cell_type": "markdown",
   "id": "02dece00",
   "metadata": {},
   "source": [
    "# computing the activation of a single neuron"
   ]
  },
  {
   "cell_type": "code",
   "execution_count": 1,
   "id": "58fe4fa7",
   "metadata": {},
   "outputs": [],
   "source": [
    "#import\n",
    "import numpy as np\n"
   ]
  },
  {
   "cell_type": "code",
   "execution_count": 7,
   "id": "97927e9d",
   "metadata": {},
   "outputs": [],
   "source": [
    "\n",
    "def sigmoid(x):\n",
    "    return 1 / (1 + np.exp(-x))"
   ]
  },
  {
   "cell_type": "code",
   "execution_count": 8,
   "id": "8fbcee7e",
   "metadata": {},
   "outputs": [],
   "source": [
    "# Define neuron parameters\n",
    "weights = np.array([0.5, 0.3, 0.1])  # weights of the neuron's inputs\n",
    "bias = 0.2  # bias of the neuron\n"
   ]
  },
  {
   "cell_type": "code",
   "execution_count": 17,
   "id": "cf031cd3",
   "metadata": {},
   "outputs": [],
   "source": [
    "\n",
    "# Define input values\n",
    "inputs = np.array([2, 3, 1])\n",
    "\n",
    "# Compute weighted sum of inputs and add bias\n",
    "weighted_sum = np.dot(inputs, weights) + bias"
   ]
  },
  {
   "cell_type": "code",
   "execution_count": 5,
   "id": "c831f1a6",
   "metadata": {},
   "outputs": [
    {
     "name": "stdout",
     "output_type": "stream",
     "text": [
      "The activation of the neuron is:  0.9002495108803148\n"
     ]
    }
   ],
   "source": [
    "\n",
    "# Compute activation of neuron using sigmoid function\n",
    "activation = sigmoid(weighted_sum)\n",
    "\n",
    "print(\"The activation of the neuron is: \", activation)"
   ]
  },
  {
   "cell_type": "code",
   "execution_count": null,
   "id": "45366f9f",
   "metadata": {},
   "outputs": [],
   "source": []
  },
  {
   "cell_type": "code",
   "execution_count": null,
   "id": "cf03b8ca",
   "metadata": {},
   "outputs": [],
   "source": []
  },
  {
   "cell_type": "code",
   "execution_count": 22,
   "id": "d4b514e0",
   "metadata": {},
   "outputs": [
    {
     "name": "stdout",
     "output_type": "stream",
     "text": [
      "1.0    1.2\n",
      "0.8999999999999999    2.1\n",
      "0.1    2.2\n"
     ]
    }
   ],
   "source": [
    "s=0\n",
    "for i in range(3):\n",
    "    c=inputs[i]*weights[i]\n",
    "    s+=c\n",
    "    print(c ,'  ',s+0.2 )\n"
   ]
  },
  {
   "cell_type": "code",
   "execution_count": 23,
   "id": "15a211dc",
   "metadata": {},
   "outputs": [],
   "source": [
    "s+=0.2"
   ]
  },
  {
   "cell_type": "code",
   "execution_count": 24,
   "id": "57498142",
   "metadata": {},
   "outputs": [
    {
     "data": {
      "text/plain": [
       "0.9002495108803148"
      ]
     },
     "execution_count": 24,
     "metadata": {},
     "output_type": "execute_result"
    }
   ],
   "source": [
    "sigmoid(s)"
   ]
  },
  {
   "cell_type": "code",
   "execution_count": null,
   "id": "bd73e6ec",
   "metadata": {},
   "outputs": [],
   "source": []
  }
 ],
 "metadata": {
  "kernelspec": {
   "display_name": "Python 3 (ipykernel)",
   "language": "python",
   "name": "python3"
  },
  "language_info": {
   "codemirror_mode": {
    "name": "ipython",
    "version": 3
   },
   "file_extension": ".py",
   "mimetype": "text/x-python",
   "name": "python",
   "nbconvert_exporter": "python",
   "pygments_lexer": "ipython3",
   "version": "3.9.13"
  }
 },
 "nbformat": 4,
 "nbformat_minor": 5
}
