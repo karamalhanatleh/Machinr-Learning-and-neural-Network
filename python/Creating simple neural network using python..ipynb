{
 "cells": [
  {
   "cell_type": "markdown",
   "id": "59f385ca",
   "metadata": {},
   "source": [
    "# Creating simple neural network using python."
   ]
  },
  {
   "cell_type": "raw",
   "id": "cc412761",
   "metadata": {},
   "source": [
    " X= {x1, x2, x3}\n",
    " z=g (W * X), where z: predicted output, g: sigmoid function\n",
    " Error = y-z\n",
    " delta_z = Error * (z * (1-z) )\n",
    " Wnew = Wold + ( X * delta_z)"
   ]
  },
  {
   "cell_type": "code",
   "execution_count": 2,
   "id": "ae2b2004",
   "metadata": {},
   "outputs": [],
   "source": [
    "#import packages\n",
    "import numpy as np"
   ]
  },
  {
   "cell_type": "code",
   "execution_count": 40,
   "id": "a3312883",
   "metadata": {},
   "outputs": [],
   "source": [
    "#define the sigmoid function\n",
    "def nonlin(x, deriv=False):\n",
    "    if (deriv == True):\n",
    "        return x*(1-x)\n",
    "    return (1/(1+ np.exp(-x)))"
   ]
  },
  {
   "cell_type": "code",
   "execution_count": 41,
   "id": "f17e6dae",
   "metadata": {},
   "outputs": [],
   "source": [
    "#Input Training Data\n",
    "X = np.array([\n",
    " [0,0,1],\n",
    " [0,1,1],\n",
    " [0,1,0],\n",
    " [1,1,1]\n",
    "])"
   ]
  },
  {
   "cell_type": "code",
   "execution_count": 42,
   "id": "ea0a5085",
   "metadata": {},
   "outputs": [
    {
     "data": {
      "text/plain": [
       "array([[0],\n",
       "       [0],\n",
       "       [1],\n",
       "       [1]])"
      ]
     },
     "execution_count": 42,
     "metadata": {},
     "output_type": "execute_result"
    }
   ],
   "source": [
    "#Output Training Data\n",
    "y = np.array ([[0,0,1,1]]).T\n",
    "y"
   ]
  },
  {
   "cell_type": "code",
   "execution_count": 43,
   "id": "6042c988",
   "metadata": {},
   "outputs": [
    {
     "data": {
      "text/plain": [
       "array([[-0.16595599],\n",
       "       [ 0.44064899],\n",
       "       [-0.99977125]])"
      ]
     },
     "execution_count": 43,
     "metadata": {},
     "output_type": "execute_result"
    }
   ],
   "source": [
    "##Inislize the weights randomly (we have three) \n",
    "W =  2*np.random.random((3,1))-1\n",
    "W"
   ]
  },
  {
   "cell_type": "code",
   "execution_count": 44,
   "id": "e0abeebc",
   "metadata": {},
   "outputs": [],
   "source": [
    "#Fix the seed so we will have always the same random values for each run\n",
    "np.random.seed(1)"
   ]
  },
  {
   "cell_type": "code",
   "execution_count": 45,
   "id": "ab7cc4d3",
   "metadata": {},
   "outputs": [
    {
     "name": "stdout",
     "output_type": "stream",
     "text": [
      "End of Training\n",
      " The output is:\n",
      "[[0.06170633]\n",
      " [0.23767843]\n",
      " [0.82581122]\n",
      " [0.82235165]]\n"
     ]
    }
   ],
   "source": [
    "##The number of epochs (cycle, iterations) can be changed, here we used 50. \n",
    "for iter in range(50):\n",
    "    z= np.dot(X,W)\n",
    "    z= nonlin(z)\n",
    "    error= y-z\n",
    "    delta_z = error * nonlin(z, True)\n",
    "    W = W + np.dot(X.T, delta_z)\n",
    "print(\"End of Training\")\n",
    "print(\" The output is:\")\n",
    "print(z) "
   ]
  },
  {
   "cell_type": "code",
   "execution_count": null,
   "id": "e6dfd314",
   "metadata": {},
   "outputs": [],
   "source": []
  },
  {
   "cell_type": "code",
   "execution_count": null,
   "id": "8d221481",
   "metadata": {},
   "outputs": [],
   "source": []
  }
 ],
 "metadata": {
  "kernelspec": {
   "display_name": "Python 3 (ipykernel)",
   "language": "python",
   "name": "python3"
  },
  "language_info": {
   "codemirror_mode": {
    "name": "ipython",
    "version": 3
   },
   "file_extension": ".py",
   "mimetype": "text/x-python",
   "name": "python",
   "nbconvert_exporter": "python",
   "pygments_lexer": "ipython3",
   "version": "3.9.13"
  }
 },
 "nbformat": 4,
 "nbformat_minor": 5
}
