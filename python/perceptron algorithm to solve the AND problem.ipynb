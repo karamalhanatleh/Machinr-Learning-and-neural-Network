{
 "cells": [
  {
   "cell_type": "code",
   "execution_count": 1,
   "id": "1453845d",
   "metadata": {},
   "outputs": [],
   "source": [
    "#import\n",
    "import numpy as np\n"
   ]
  },
  {
   "cell_type": "code",
   "execution_count": 2,
   "id": "f7bb3a02",
   "metadata": {},
   "outputs": [],
   "source": [
    "# Define the activation function (unit step function)\n",
    "def activation(z):\n",
    "    return 1 if z > 0 else 0"
   ]
  },
  {
   "cell_type": "code",
   "execution_count": 4,
   "id": "f6a6a386",
   "metadata": {},
   "outputs": [],
   "source": [
    "# Define the perceptron function for AND problem\n",
    "def perceptron_AND(x1, x2):\n",
    "    # Set initial weights\n",
    "    w1, w2 = 0.1, 0.3\n",
    "    alpha = 0.2\n",
    "    epochs = 8\n",
    "    \n",
    "    for i in range(epochs):\n",
    "        # Training examples\n",
    "        X = np.array([[0,0], [0,1], [1,0], [1,1],[0,0],[0,1],[1,0] ,[1,1]])\n",
    "        y = np.array([0, 0, 0, 1,0,0,0,1])\n",
    "        \n",
    "        for j in range(len(X)):\n",
    "            x = X[j]\n",
    "            target = y[j]\n",
    "            \n",
    "            # Calculate the network output\n",
    "            z = x[0] * w1 + x[1] * w2\n",
    "            output = activation(z)\n",
    "            \n",
    "            # Calculate the error\n",
    "            delta = target - output\n",
    "            \n",
    "            # Update the weights\n",
    "            w1 += alpha * delta * x[0]\n",
    "            w2 += alpha * delta * x[1]\n",
    "            \n",
    "    # Calculate the final network output\n",
    "    z = x1 * w1 + x2 * w2\n",
    "    output = activation(z)\n",
    "    \n",
    "    return output"
   ]
  },
  {
   "cell_type": "code",
   "execution_count": 6,
   "id": "ff2cd9b7",
   "metadata": {},
   "outputs": [
    {
     "data": {
      "text/plain": [
       "0"
      ]
     },
     "execution_count": 6,
     "metadata": {},
     "output_type": "execute_result"
    }
   ],
   "source": [
    "perceptron_AND(0,0)"
   ]
  },
  {
   "cell_type": "code",
   "execution_count": 18,
   "id": "714ff629",
   "metadata": {},
   "outputs": [
    {
     "name": "stdout",
     "output_type": "stream",
     "text": [
      "x0 x1 \t y \t w1 \t w2 \t z \t de\n",
      "0 0 \t 0 \t 0.1 \t 0.3 \t 0.0 \t 0\n",
      "0 1 \t 0 \t 0.1 \t 0.09999999999999998 \t 0.3 \t -1\n",
      "1 0 \t 0 \t -0.1 \t 0.09999999999999998 \t 0.1 \t -1\n",
      "1 1 \t 1 \t 0.1 \t 0.3 \t -2.7755575615628914e-17 \t 1\n",
      "0 0 \t 0 \t 0.1 \t 0.3 \t 0.0 \t 0\n",
      "0 1 \t 0 \t 0.1 \t 0.09999999999999998 \t 0.3 \t -1\n",
      "1 0 \t 0 \t -0.1 \t 0.09999999999999998 \t 0.1 \t -1\n",
      "1 1 \t 1 \t 0.1 \t 0.3 \t -2.7755575615628914e-17 \t 1\n"
     ]
    }
   ],
   "source": [
    "# Set initial weights\n",
    "w1, w2 = 0.1, 0.3\n",
    "alpha = 0.2\n",
    "epochs = 8\n",
    "    \n",
    "    # Training examples\n",
    "X = np.array([[0,0], [0,1], [1,0], [1,1],[0,0],[0,1],[1,0] ,[1,1]])\n",
    "y = np.array([0, 0, 0, 1,0,0,0,1])\n",
    "\n",
    "print('x0','x1','\\t','y' ,'\\t', 'w1','\\t','w2','\\t','z','\\t','de')\n",
    "for j in range(len(X)):\n",
    "    x = X[j]\n",
    "    target = y[j]\n",
    "            \n",
    "    # Calculate the network output\n",
    "    z = x[0] * w1 + x[1] * w2\n",
    "    output = activation(z)\n",
    "            \n",
    "    # Calculate the error\n",
    "    delta = target - output\n",
    "            \n",
    "    # Update the weights\n",
    "    w1 += alpha * delta * x[0]\n",
    "    w2 += alpha * delta * x[1]\n",
    "    print(x[0],x[1],'\\t',target ,'\\t', w1,'\\t',w2,'\\t',z,'\\t',delta)\n",
    "    # Calculate the final network output\n",
    "   # z = x1 * w1 + x2 * w2\n",
    "   # output = activation(z)\n",
    "    "
   ]
  },
  {
   "cell_type": "code",
   "execution_count": null,
   "id": "878dc260",
   "metadata": {},
   "outputs": [],
   "source": []
  }
 ],
 "metadata": {
  "kernelspec": {
   "display_name": "Python 3 (ipykernel)",
   "language": "python",
   "name": "python3"
  },
  "language_info": {
   "codemirror_mode": {
    "name": "ipython",
    "version": 3
   },
   "file_extension": ".py",
   "mimetype": "text/x-python",
   "name": "python",
   "nbconvert_exporter": "python",
   "pygments_lexer": "ipython3",
   "version": "3.9.13"
  }
 },
 "nbformat": 4,
 "nbformat_minor": 5
}
