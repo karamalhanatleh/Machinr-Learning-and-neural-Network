{
 "cells": [
  {
   "cell_type": "markdown",
   "id": "6b367d98",
   "metadata": {},
   "source": [
    "# Quadratic Feature Map\n"
   ]
  },
  {
   "cell_type": "code",
   "execution_count": 2,
   "id": "477a0340",
   "metadata": {},
   "outputs": [],
   "source": [
    "#import packages\n",
    "import numpy as np"
   ]
  },
  {
   "cell_type": "code",
   "execution_count": 10,
   "id": "b666f0f2",
   "metadata": {},
   "outputs": [
    {
     "name": "stdout",
     "output_type": "stream",
     "text": [
      "[ 25  50 100]\n"
     ]
    }
   ],
   "source": [
    "\n",
    "def quadratic_feature_map(x):\n",
    "    n = x.shape[0]\n",
    "    quadratic_features = []\n",
    "    for i in range(n):\n",
    "        quadratic_features.append(x[i]**2)\n",
    "        for j in range(i+1, n):\n",
    "            quadratic_features.append(x[i]*x[j])\n",
    "    return np.array(quadratic_features)\n",
    "\n",
    "# Example usage\n",
    "x = np.array([5,10])\n",
    "quadratic_x = quadratic_feature_map(x)\n",
    "print(quadratic_x) "
   ]
  },
  {
   "cell_type": "code",
   "execution_count": 11,
   "id": "08415a26",
   "metadata": {},
   "outputs": [
    {
     "name": "stdout",
     "output_type": "stream",
     "text": [
      "[ 9 15 25]\n"
     ]
    }
   ],
   "source": [
    "# Example usage\n",
    "x = np.array([3,5])\n",
    "quadratic_x = quadratic_feature_map(x)\n",
    "print(quadratic_x) "
   ]
  },
  {
   "cell_type": "code",
   "execution_count": 12,
   "id": "b4e34001",
   "metadata": {},
   "outputs": [
    {
     "name": "stdout",
     "output_type": "stream",
     "text": [
      "[  9  15  30  25  50 100]\n"
     ]
    }
   ],
   "source": [
    "# Example usage\n",
    "x = np.array([3,5,10])\n",
    "quadratic_x = quadratic_feature_map(x)\n",
    "print(quadratic_x) "
   ]
  },
  {
   "cell_type": "code",
   "execution_count": null,
   "id": "8ed8a127",
   "metadata": {},
   "outputs": [],
   "source": []
  }
 ],
 "metadata": {
  "kernelspec": {
   "display_name": "Python 3 (ipykernel)",
   "language": "python",
   "name": "python3"
  },
  "language_info": {
   "codemirror_mode": {
    "name": "ipython",
    "version": 3
   },
   "file_extension": ".py",
   "mimetype": "text/x-python",
   "name": "python",
   "nbconvert_exporter": "python",
   "pygments_lexer": "ipython3",
   "version": "3.9.13"
  }
 },
 "nbformat": 4,
 "nbformat_minor": 5
}
