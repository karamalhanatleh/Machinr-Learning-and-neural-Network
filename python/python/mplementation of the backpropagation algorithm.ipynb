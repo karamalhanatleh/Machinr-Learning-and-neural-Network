{
 "cells": [
  {
   "cell_type": "markdown",
   "id": "faa0cc05",
   "metadata": {},
   "source": [
    "# mplementation of the backpropagation algorithm"
   ]
  },
  {
   "cell_type": "code",
   "execution_count": 2,
   "id": "22d2462d",
   "metadata": {},
   "outputs": [],
   "source": [
    "#import\n",
    "import numpy as np"
   ]
  },
  {
   "cell_type": "code",
   "execution_count": 4,
   "id": "6beb7be3",
   "metadata": {},
   "outputs": [],
   "source": [
    "#activation function : simoid\n",
    "def sigmoid(x):\n",
    "    return 1/(1 +np.exp(-x))"
   ]
  },
  {
   "cell_type": "code",
   "execution_count": 5,
   "id": "c2c71e5a",
   "metadata": {},
   "outputs": [],
   "source": [
    "# Derivative of sigmoid function\n",
    "def sigmoid_derivative(x):\n",
    "    return sigmoid(x)*(1-sigmoid(x))"
   ]
  },
  {
   "cell_type": "code",
   "execution_count": 10,
   "id": "ead30149",
   "metadata": {},
   "outputs": [],
   "source": [
    "# Neural network architecture\n",
    "input_size = 2\n",
    "hidden_size = 3\n",
    "output_size = 1"
   ]
  },
  {
   "cell_type": "code",
   "execution_count": 11,
   "id": "c8167f4d",
   "metadata": {},
   "outputs": [],
   "source": [
    "#Initialize weights and biases randomly\n",
    "np.random.seed(0)\n",
    "w1 = np.random.randn(3, 2)\n",
    "w2 = np.random.randn(1, 3)\n",
    "b1 = np.random.randn(3, 1)\n",
    "b2 = np.random.randn(1, 1)\n"
   ]
  },
  {
   "cell_type": "code",
   "execution_count": 12,
   "id": "f93d0238",
   "metadata": {},
   "outputs": [
    {
     "data": {
      "text/plain": [
       "array([[0, 0],\n",
       "       [0, 1],\n",
       "       [1, 0],\n",
       "       [1, 1]])"
      ]
     },
     "execution_count": 12,
     "metadata": {},
     "output_type": "execute_result"
    }
   ],
   "source": [
    "# Training data\n",
    "X = np.array([[0, 0], [0, 1], [1, 0], [1, 1]])\n",
    "y = np.array([[0], [1], [1], [0]])\n",
    "X"
   ]
  },
  {
   "cell_type": "code",
   "execution_count": 13,
   "id": "a6bfa5df",
   "metadata": {},
   "outputs": [
    {
     "data": {
      "text/plain": [
       "array([[0],\n",
       "       [1],\n",
       "       [1],\n",
       "       [0]])"
      ]
     },
     "execution_count": 13,
     "metadata": {},
     "output_type": "execute_result"
    }
   ],
   "source": [
    "y"
   ]
  },
  {
   "cell_type": "code",
   "execution_count": 14,
   "id": "d0a73e2f",
   "metadata": {},
   "outputs": [],
   "source": [
    "# Training parameters\n",
    "learning_rate = 0.1\n",
    "epochs = 10000\n"
   ]
  },
  {
   "cell_type": "code",
   "execution_count": null,
   "id": "5ba7be65",
   "metadata": {},
   "outputs": [],
   "source": [
    "# Training loop\n",
    "for epoch in range(epochs):\n",
    "    # Feedforward Pass\n",
    "    h = sigmoid(np.dot(w1, X.T) + b1)  # Hidden layer outputs\n",
    "    y_pred = sigmoid(np.dot(w2, h) + b2)  # Output layer prediction\n",
    "\n",
    "    # Backward Pass\n",
    "    delta_output = (y_pred - y) * sigmoid_derivative(np.dot(w2, h) + b2)  # Output layer error\n",
    "\n",
    "    delta_h = np.dot(w2.T, delta_output) * sigmoid_derivative(np.dot(w1, X.T) + b1)  # Hidden layer error\n",
    "\n",
    "    # Update weights and biases\n",
    "    w2 -= learning_rate * np.dot(delta_output, h.T)\n",
    "    b2 -= learning_rate * np.sum(delta_output, axis=1, keepdims=True)\n",
    "    w1 -= learning_rate * np.dot(delta_h, X)\n",
    "    b1 -= learning_rate * np.sum(delta_h, axis=1, keepdims=True)\n"
   ]
  }
 ],
 "metadata": {
  "kernelspec": {
   "display_name": "Python 3 (ipykernel)",
   "language": "python",
   "name": "python3"
  },
  "language_info": {
   "codemirror_mode": {
    "name": "ipython",
    "version": 3
   },
   "file_extension": ".py",
   "mimetype": "text/x-python",
   "name": "python",
   "nbconvert_exporter": "python",
   "pygments_lexer": "ipython3",
   "version": "3.9.13"
  }
 },
 "nbformat": 4,
 "nbformat_minor": 5
}
