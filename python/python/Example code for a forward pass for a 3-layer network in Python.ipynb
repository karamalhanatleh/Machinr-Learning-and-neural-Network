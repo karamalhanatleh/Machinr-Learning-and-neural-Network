{
 "cells": [
  {
   "cell_type": "markdown",
   "id": "653f6a94",
   "metadata": {},
   "source": [
    "# Example code for a forward pass for a 3-layer network in Python"
   ]
  },
  {
   "cell_type": "code",
   "execution_count": 1,
   "id": "14cd13ac",
   "metadata": {},
   "outputs": [],
   "source": [
    "#import \n",
    "import numpy as np"
   ]
  },
  {
   "cell_type": "code",
   "execution_count": 7,
   "id": "ca957699",
   "metadata": {},
   "outputs": [
    {
     "data": {
      "text/plain": [
       "array([[0.04049808],\n",
       "       [0.46682571],\n",
       "       [0.22626131]])"
      ]
     },
     "execution_count": 7,
     "metadata": {},
     "output_type": "execute_result"
    }
   ],
   "source": [
    "#forward-pass of a 3-layer nural network:\n",
    "def f(x):\n",
    "    return 1.0/(1.0+np.exp(-x))\n",
    "\n",
    "x=np.random.rand(3,1)\n",
    "h1 =f(np.dot())"
   ]
  },
  {
   "cell_type": "code",
   "execution_count": null,
   "id": "8c32a7f8",
   "metadata": {},
   "outputs": [],
   "source": []
  },
  {
   "cell_type": "code",
   "execution_count": null,
   "id": "2cb1ef9f",
   "metadata": {},
   "outputs": [],
   "source": []
  }
 ],
 "metadata": {
  "kernelspec": {
   "display_name": "Python 3 (ipykernel)",
   "language": "python",
   "name": "python3"
  },
  "language_info": {
   "codemirror_mode": {
    "name": "ipython",
    "version": 3
   },
   "file_extension": ".py",
   "mimetype": "text/x-python",
   "name": "python",
   "nbconvert_exporter": "python",
   "pygments_lexer": "ipython3",
   "version": "3.9.13"
  }
 },
 "nbformat": 4,
 "nbformat_minor": 5
}
