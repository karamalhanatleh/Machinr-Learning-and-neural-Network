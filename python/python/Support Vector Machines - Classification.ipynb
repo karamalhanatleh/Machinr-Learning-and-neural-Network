{
 "cells": [
  {
   "cell_type": "markdown",
   "id": "221eefba",
   "metadata": {},
   "source": [
    "# Support Vector Machines - Classification"
   ]
  },
  {
   "cell_type": "code",
   "execution_count": 62,
   "id": "963d250c",
   "metadata": {},
   "outputs": [],
   "source": [
    "#import paskages\n",
    "from sklearn import svm"
   ]
  },
  {
   "cell_type": "code",
   "execution_count": 51,
   "id": "cade2abe",
   "metadata": {},
   "outputs": [],
   "source": [
    "#data\n",
    "X=[ [-1,-1] ,[1,1] ]\n",
    "y=[0,1]"
   ]
  },
  {
   "cell_type": "code",
   "execution_count": 52,
   "id": "1fbe9425",
   "metadata": {},
   "outputs": [
    {
     "data": {
      "text/plain": [
       "SVC()"
      ]
     },
     "execution_count": 52,
     "metadata": {},
     "output_type": "execute_result"
    }
   ],
   "source": [
    "model=svm.SVC()\n",
    "model.fit(X,y)"
   ]
  },
  {
   "cell_type": "markdown",
   "id": "44e00105",
   "metadata": {},
   "source": [
    "After being fitted, the model can then be used to predict new values:\n",
    "\n"
   ]
  },
  {
   "cell_type": "code",
   "execution_count": 53,
   "id": "a2785b97",
   "metadata": {},
   "outputs": [
    {
     "data": {
      "text/plain": [
       "array([1])"
      ]
     },
     "execution_count": 53,
     "metadata": {},
     "output_type": "execute_result"
    }
   ],
   "source": [
    "model.predict([[2 ,2]])"
   ]
  },
  {
   "cell_type": "code",
   "execution_count": 54,
   "id": "31de41b8",
   "metadata": {},
   "outputs": [
    {
     "data": {
      "text/plain": [
       "array([0])"
      ]
     },
     "execution_count": 54,
     "metadata": {},
     "output_type": "execute_result"
    }
   ],
   "source": [
    "model.predict([[0,-3]])"
   ]
  },
  {
   "cell_type": "code",
   "execution_count": 55,
   "id": "db1e9579",
   "metadata": {},
   "outputs": [
    {
     "data": {
      "text/plain": [
       "array([1])"
      ]
     },
     "execution_count": 55,
     "metadata": {},
     "output_type": "execute_result"
    }
   ],
   "source": [
    "model.predict([[3,-3]])"
   ]
  },
  {
   "cell_type": "code",
   "execution_count": 56,
   "id": "af23ac6c",
   "metadata": {},
   "outputs": [
    {
     "data": {
      "text/plain": [
       "array([1])"
      ]
     },
     "execution_count": 56,
     "metadata": {},
     "output_type": "execute_result"
    }
   ],
   "source": [
    "model.predict([[3,3]])"
   ]
  },
  {
   "cell_type": "code",
   "execution_count": 57,
   "id": "b9d22548",
   "metadata": {},
   "outputs": [
    {
     "data": {
      "text/plain": [
       "array([0])"
      ]
     },
     "execution_count": 57,
     "metadata": {},
     "output_type": "execute_result"
    }
   ],
   "source": [
    "model.predict([[-3,-3]])"
   ]
  },
  {
   "cell_type": "code",
   "execution_count": null,
   "id": "b6f31365",
   "metadata": {},
   "outputs": [],
   "source": []
  },
  {
   "cell_type": "markdown",
   "id": "d18a79d4",
   "metadata": {},
   "source": [
    "SVMs decision function (detailed in the Mathematical formulation) depends on some subset of the training data, called the support vectors. Some properties of these support vectors can be found in attributes support_vectors_, support_ and n_support_:\n",
    "\n"
   ]
  },
  {
   "cell_type": "code",
   "execution_count": 58,
   "id": "aa533509",
   "metadata": {},
   "outputs": [
    {
     "data": {
      "text/plain": [
       "array([[-1., -1.],\n",
       "       [ 1.,  1.]])"
      ]
     },
     "execution_count": 58,
     "metadata": {},
     "output_type": "execute_result"
    }
   ],
   "source": [
    "# get support vectors\n",
    "model.support_vectors_"
   ]
  },
  {
   "cell_type": "code",
   "execution_count": 59,
   "id": "2981a38e",
   "metadata": {},
   "outputs": [
    {
     "data": {
      "text/plain": [
       "array([0, 1])"
      ]
     },
     "execution_count": 59,
     "metadata": {},
     "output_type": "execute_result"
    }
   ],
   "source": [
    "# get indices of support vectors\n",
    "model.support_"
   ]
  },
  {
   "cell_type": "code",
   "execution_count": 61,
   "id": "dda3032f",
   "metadata": {},
   "outputs": [
    {
     "data": {
      "text/plain": [
       "array([1, 1])"
      ]
     },
     "execution_count": 61,
     "metadata": {},
     "output_type": "execute_result"
    }
   ],
   "source": [
    "# get number of support vectors for each class\n",
    "model.n_support_"
   ]
  },
  {
   "cell_type": "code",
   "execution_count": null,
   "id": "c7cbb763",
   "metadata": {},
   "outputs": [],
   "source": []
  }
 ],
 "metadata": {
  "kernelspec": {
   "display_name": "Python 3 (ipykernel)",
   "language": "python",
   "name": "python3"
  },
  "language_info": {
   "codemirror_mode": {
    "name": "ipython",
    "version": 3
   },
   "file_extension": ".py",
   "mimetype": "text/x-python",
   "name": "python",
   "nbconvert_exporter": "python",
   "pygments_lexer": "ipython3",
   "version": "3.9.13"
  }
 },
 "nbformat": 4,
 "nbformat_minor": 5
}
