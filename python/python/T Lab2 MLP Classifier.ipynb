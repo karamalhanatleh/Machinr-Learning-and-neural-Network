{
 "cells": [
  {
   "cell_type": "markdown",
   "id": "c0f53ac9",
   "metadata": {},
   "source": [
    "# Lab2: MLP Classifier\n"
   ]
  },
  {
   "cell_type": "code",
   "execution_count": 4,
   "id": "9f26207e",
   "metadata": {},
   "outputs": [],
   "source": [
    "#import\n",
    "import matplotlib.pyplot as plt\n",
    "from sklearn.model_selection import train_test_split\n",
    "from sklearn.neural_network import MLPClassifier\n",
    "from sklearn.metrics import accuracy_score\n",
    "\n",
    "from sklearn.datasets import make_blobs"
   ]
  },
  {
   "cell_type": "code",
   "execution_count": 5,
   "id": "6e9d10e1",
   "metadata": {},
   "outputs": [],
   "source": [
    "#sample\n",
    "n_samples = 200\n"
   ]
  },
  {
   "cell_type": "code",
   "execution_count": 6,
   "id": "bc00957c",
   "metadata": {},
   "outputs": [],
   "source": [
    "blob_centers = ([1, 1], [3, 4], [1, 3.3], [3.5, 1.8])\n",
    "data, labels = make_blobs(n_samples=n_samples, centers=blob_centers,cluster_std=0.5,random_state=0)"
   ]
  },
  {
   "cell_type": "code",
   "execution_count": 11,
   "id": "3b5e3749",
   "metadata": {},
   "outputs": [],
   "source": [
    "colours = ('green', 'orange', \"blue\", \"magenta\")"
   ]
  },
  {
   "cell_type": "code",
   "execution_count": 12,
   "id": "4fcbff8c",
   "metadata": {},
   "outputs": [
    {
     "data": {
      "image/png": "[encoded data removed]",
      "text/plain": [
       "<Figure size 640x480 with 1 Axes>"
      ]
     },
     "metadata": {},
     "output_type": "display_data"
    }
   ],
   "source": [
    "fig, ax = plt.subplots()\n",
    "for n_class in range(len(blob_centers)):\n",
    "    ax.scatter(data[labels==n_class][:, 0], data[labels==n_class][:, 1], c=colours[n_class], s=30,\n",
    "     label=str(n_class))"
   ]
  },
  {
   "cell_type": "code",
   "execution_count": null,
   "id": "155c6640",
   "metadata": {},
   "outputs": [],
   "source": []
  },
  {
   "cell_type": "code",
   "execution_count": 13,
   "id": "febeb6d5",
   "metadata": {},
   "outputs": [],
   "source": [
    "datasets = train_test_split(data,labels,test_size=0.2)\n",
    "train_data, test_data, train_labels, test_labels = datasets\n"
   ]
  },
  {
   "cell_type": "code",
   "execution_count": 14,
   "id": "47846134",
   "metadata": {},
   "outputs": [
    {
     "data": {
      "text/plain": [
       "MLPClassifier(alpha=1e-05, hidden_layer_sizes=(6,), random_state=1,\n",
       "              solver='lbfgs')"
      ]
     },
     "execution_count": 14,
     "metadata": {},
     "output_type": "execute_result"
    }
   ],
   "source": [
    "clf = MLPClassifier(solver='lbfgs', alpha=1e-5, hidden_layer_sizes=(6,), random_state=1)\n",
    "clf.fit(train_data, train_labels)"
   ]
  },
  {
   "cell_type": "code",
   "execution_count": 15,
   "id": "37db7d8c",
   "metadata": {},
   "outputs": [
    {
     "data": {
      "text/plain": [
       "1.0"
      ]
     },
     "execution_count": 15,
     "metadata": {},
     "output_type": "execute_result"
    }
   ],
   "source": [
    "clf.score(train_data, train_labels)"
   ]
  },
  {
   "cell_type": "code",
   "execution_count": 17,
   "id": "6046cfe3",
   "metadata": {},
   "outputs": [
    {
     "name": "stdout",
     "output_type": "stream",
     "text": [
      "score on train data:  1.0\n",
      "score on test data:  0.925\n"
     ]
    }
   ],
   "source": [
    "predictions_train = clf.predict(train_data)\n",
    "predictions_test = clf.predict(test_data)\n",
    "train_score = accuracy_score(predictions_train, train_labels)\n",
    "print(\"score on train data: \", train_score)\n",
    "test_score = accuracy_score(predictions_test, test_labels)\n",
    "print(\"score on test data: \", test_score)"
   ]
  },
  {
   "cell_type": "code",
   "execution_count": null,
   "id": "3f30ffd5",
   "metadata": {},
   "outputs": [],
   "source": []
  }
 ],
 "metadata": {
  "kernelspec": {
   "display_name": "Python 3 (ipykernel)",
   "language": "python",
   "name": "python3"
  },
  "language_info": {
   "codemirror_mode": {
    "name": "ipython",
    "version": 3
   },
   "file_extension": ".py",
   "mimetype": "text/x-python",
   "name": "python",
   "nbconvert_exporter": "python",
   "pygments_lexer": "ipython3",
   "version": "3.9.13"
  }
 },
 "nbformat": 4,
 "nbformat_minor": 5
}
