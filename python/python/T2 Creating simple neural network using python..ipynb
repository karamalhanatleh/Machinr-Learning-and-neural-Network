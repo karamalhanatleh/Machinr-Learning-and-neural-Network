{
 "cells": [
  {
   "cell_type": "markdown",
   "id": "02d33f91",
   "metadata": {},
   "source": [
    "## Creating simple neural network using python.\n"
   ]
  },
  {
   "cell_type": "code",
   "execution_count": 1,
   "id": "60487513",
   "metadata": {},
   "outputs": [],
   "source": [
    "import numpy as np\n",
    "np.random.seed(1)"
   ]
  },
  {
   "cell_type": "code",
   "execution_count": 2,
   "id": "c1bcb6fb",
   "metadata": {},
   "outputs": [],
   "source": [
    "X = np.array([ [0,0,1],[0,1,1],[0,1,0],[1,1,1] ])\n",
    "y=np.array([0,0,1,1])"
   ]
  },
  {
   "cell_type": "code",
   "execution_count": 3,
   "id": "31a7e80d",
   "metadata": {},
   "outputs": [
    {
     "data": {
      "text/plain": [
       "array([[-0.16595599],\n",
       "       [ 0.44064899],\n",
       "       [-0.99977125]])"
      ]
     },
     "execution_count": 3,
     "metadata": {},
     "output_type": "execute_result"
    }
   ],
   "source": [
    "W=2*np.random.random((3,1))-1\n",
    "W"
   ]
  },
  {
   "cell_type": "code",
   "execution_count": 8,
   "id": "dd49bdd5",
   "metadata": {},
   "outputs": [],
   "source": [
    "def nonline(x, deriv=False):\n",
    "    if (deriv==True):\n",
    "        return x*(1-x)\n",
    "    return(1/(1+np.exp(-x)) )"
   ]
  },
  {
   "cell_type": "code",
   "execution_count": 10,
   "id": "3f2faf3f",
   "metadata": {},
   "outputs": [],
   "source": [
    "for i in range(100):\n",
    "    z=np.dot(X,W)\n",
    "    z=nonline(z)\n",
    "    error=y-z\n",
    "    \n",
    "    delta_z = error * nonline(z,True)\n",
    "    W=W+np.dot(X.T  ,delta_z)"
   ]
  },
  {
   "cell_type": "code",
   "execution_count": null,
   "id": "d0e3c33a",
   "metadata": {},
   "outputs": [],
   "source": []
  },
  {
   "cell_type": "code",
   "execution_count": null,
   "id": "cb1a8f00",
   "metadata": {},
   "outputs": [],
   "source": []
  },
  {
   "cell_type": "code",
   "execution_count": null,
   "id": "c1feb7b2",
   "metadata": {},
   "outputs": [],
   "source": []
  }
 ],
 "metadata": {
  "kernelspec": {
   "display_name": "Python 3 (ipykernel)",
   "language": "python",
   "name": "python3"
  },
  "language_info": {
   "codemirror_mode": {
    "name": "ipython",
    "version": 3
   },
   "file_extension": ".py",
   "mimetype": "text/x-python",
   "name": "python",
   "nbconvert_exporter": "python",
   "pygments_lexer": "ipython3",
   "version": "3.9.13"
  }
 },
 "nbformat": 4,
 "nbformat_minor": 5
}
