{
 "cells": [
  {
   "cell_type": "markdown",
   "id": "313db3dd",
   "metadata": {},
   "source": [
    "# Perceptron Learning "
   ]
  },
  {
   "cell_type": "code",
   "execution_count": 3,
   "id": "73fb81e5",
   "metadata": {},
   "outputs": [],
   "source": [
    "import numpy as np"
   ]
  },
  {
   "cell_type": "code",
   "execution_count": 4,
   "id": "dfce7351",
   "metadata": {},
   "outputs": [],
   "source": [
    "#threshold\n",
    "def activation (z):\n",
    "    if z>0:\n",
    "        return 1\n",
    "    return 0"
   ]
  },
  {
   "cell_type": "code",
   "execution_count": 10,
   "id": "8fb25959",
   "metadata": {},
   "outputs": [
    {
     "name": "stdout",
     "output_type": "stream",
     "text": [
      "0 And 0 :  0\n",
      "1 and 0 :  0\n",
      "0 and 1 :  0\n",
      "1 and 1 :  1\n"
     ]
    }
   ],
   "source": [
    "# for And implement perception ::::\n",
    "w= np.array([1,1])\n",
    "b= - 1\n",
    "\n",
    "x=np.array([0,0])\n",
    "print(\"0 And 0 : \",activation( w.dot(x)+b  ))\n",
    "\n",
    "x=np.array([1,0])\n",
    "print(\"1 and 0 : \",activation(w.dot(x)+b) )\n",
    "\n",
    "x=np.array([0,1])\n",
    "print(\"0 and 1 : \",activation(w.dot(x)+b))\n",
    "\n",
    "x=np.array([1,1])\n",
    "print(\"1 and 1 : \", activation(w.dot(x)+b))"
   ]
  },
  {
   "cell_type": "code",
   "execution_count": null,
   "id": "9995e73c",
   "metadata": {},
   "outputs": [],
   "source": []
  },
  {
   "cell_type": "code",
   "execution_count": null,
   "id": "954a93c3",
   "metadata": {},
   "outputs": [],
   "source": []
  },
  {
   "cell_type": "code",
   "execution_count": null,
   "id": "2a494c2c",
   "metadata": {},
   "outputs": [],
   "source": []
  },
  {
   "cell_type": "code",
   "execution_count": null,
   "id": "940b825f",
   "metadata": {},
   "outputs": [],
   "source": []
  },
  {
   "cell_type": "code",
   "execution_count": null,
   "id": "8fa864bb",
   "metadata": {},
   "outputs": [],
   "source": []
  }
 ],
 "metadata": {
  "kernelspec": {
   "display_name": "Python 3 (ipykernel)",
   "language": "python",
   "name": "python3"
  },
  "language_info": {
   "codemirror_mode": {
    "name": "ipython",
    "version": 3
   },
   "file_extension": ".py",
   "mimetype": "text/x-python",
   "name": "python",
   "nbconvert_exporter": "python",
   "pygments_lexer": "ipython3",
   "version": "3.9.13"
  }
 },
 "nbformat": 4,
 "nbformat_minor": 5
}
