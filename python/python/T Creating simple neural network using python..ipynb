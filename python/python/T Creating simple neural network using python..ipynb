{
 "cells": [
  {
   "cell_type": "markdown",
   "id": "e5d86f6b",
   "metadata": {},
   "source": [
    "# Creating simple neural network using python.\n"
   ]
  },
  {
   "cell_type": "code",
   "execution_count": 39,
   "id": "a527c9e1",
   "metadata": {},
   "outputs": [],
   "source": [
    "#import \n",
    "import numpy as np"
   ]
  },
  {
   "cell_type": "code",
   "execution_count": 66,
   "id": "377747b0",
   "metadata": {},
   "outputs": [],
   "source": [
    "#define sigmoid \n",
    "def nonlin(x, deriv=False):\n",
    "    if(deriv==True):\n",
    "        return x*(1-x)\n",
    "    return (1/(1+np.exp(-x)))"
   ]
  },
  {
   "cell_type": "code",
   "execution_count": 67,
   "id": "ebae4893",
   "metadata": {},
   "outputs": [],
   "source": [
    "#Input Training Data\n",
    "X = np.array([\n",
    " [0,0,1],\n",
    " [0,1,1],\n",
    " [0,1,0],\n",
    " [1,1,1]\n",
    "])\n"
   ]
  },
  {
   "cell_type": "code",
   "execution_count": 68,
   "id": "41cbb75f",
   "metadata": {},
   "outputs": [],
   "source": [
    "#Output Training Data\n",
    "y = np.array ([[0,0,1,1]]).T"
   ]
  },
  {
   "cell_type": "code",
   "execution_count": 69,
   "id": "0eeca7a0",
   "metadata": {},
   "outputs": [
    {
     "data": {
      "text/plain": [
       "array([[ 0.54264129],\n",
       "       [-0.9584961 ],\n",
       "       [ 0.26729647]])"
      ]
     },
     "execution_count": 69,
     "metadata": {},
     "output_type": "execute_result"
    }
   ],
   "source": [
    "##Inislize the weights\n",
    "W = 2 * np.random.random((3,1))-1\n",
    "W"
   ]
  },
  {
   "cell_type": "code",
   "execution_count": 70,
   "id": "42eb0348",
   "metadata": {},
   "outputs": [],
   "source": [
    "np.random.seed(10)"
   ]
  },
  {
   "cell_type": "code",
   "execution_count": 71,
   "id": "b93da0d6",
   "metadata": {},
   "outputs": [
    {
     "name": "stdout",
     "output_type": "stream",
     "text": [
      "[[0.06943377]\n",
      " [0.23374242]\n",
      " [0.80346945]\n",
      " [0.83507457]]\n"
     ]
    }
   ],
   "source": [
    "for i in range(50):\n",
    "    z=np.dot(X,W)\n",
    "    z=nonlin(z)\n",
    "    \n",
    "    error=y-z\n",
    "    \n",
    "    delta_z = error * nonlin(z,True)\n",
    "    W=W+np.dot(X.T, delta_z)\n",
    "print(z)\n",
    "    \n",
    "    "
   ]
  },
  {
   "cell_type": "code",
   "execution_count": null,
   "id": "b34ec2da",
   "metadata": {},
   "outputs": [],
   "source": []
  },
  {
   "cell_type": "code",
   "execution_count": null,
   "id": "a36f74a5",
   "metadata": {},
   "outputs": [],
   "source": []
  }
 ],
 "metadata": {
  "kernelspec": {
   "display_name": "Python 3 (ipykernel)",
   "language": "python",
   "name": "python3"
  },
  "language_info": {
   "codemirror_mode": {
    "name": "ipython",
    "version": 3
   },
   "file_extension": ".py",
   "mimetype": "text/x-python",
   "name": "python",
   "nbconvert_exporter": "python",
   "pygments_lexer": "ipython3",
   "version": "3.9.13"
  }
 },
 "nbformat": 4,
 "nbformat_minor": 5
}
