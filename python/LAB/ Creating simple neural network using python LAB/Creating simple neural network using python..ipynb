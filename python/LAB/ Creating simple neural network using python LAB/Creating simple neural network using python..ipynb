{
 "cells": [
  {
   "cell_type": "markdown",
   "id": "e78d93c8",
   "metadata": {},
   "source": [
    "# Creating simple neural network using python.\n"
   ]
  },
  {
   "cell_type": "markdown",
   "id": "c64f9d0e",
   "metadata": {},
   "source": [
    "X= {x1, x2, x3} <BR>\n",
    "z=g (W * X), where z: predicted output, g: sigmoid function<BR>\n",
    "Error = y-z<BR>\n",
    "delta_z = Error * (z * (1-z) )<BR>\n",
    "W(new) = W(old )+ ( X * delta_z)<BR>"
   ]
  },
  {
   "cell_type": "code",
   "execution_count": 1,
   "id": "61037e97",
   "metadata": {},
   "outputs": [],
   "source": [
    "# import\n",
    "import numpy as np"
   ]
  },
  {
   "cell_type": "code",
   "execution_count": 2,
   "id": "80ee3ddb",
   "metadata": {},
   "outputs": [],
   "source": [
    "#define the sigmoid function\n",
    "def nonlin(x, deriv=False):\n",
    "    if (deriv == True):\n",
    "        return x*(1-x)\n",
    "    return (1/(1+ np.exp(-x)))"
   ]
  },
  {
   "cell_type": "code",
   "execution_count": 3,
   "id": "88e861c5",
   "metadata": {},
   "outputs": [],
   "source": [
    "#Input Training Data\n",
    "X = np.array([\n",
    "    [0,0,1],\n",
    "    [0,1,1],\n",
    "    [0,1,0],\n",
    "    [1,1,1]\n",
    "])"
   ]
  },
  {
   "cell_type": "code",
   "execution_count": 5,
   "id": "88ca8e33",
   "metadata": {},
   "outputs": [
    {
     "data": {
      "text/plain": [
       "array([[0],\n",
       "       [0],\n",
       "       [1],\n",
       "       [1]])"
      ]
     },
     "execution_count": 5,
     "metadata": {},
     "output_type": "execute_result"
    }
   ],
   "source": [
    "#Output Training Data\n",
    "y = np.array ([[0,0,1,1]]).T\n",
    "y"
   ]
  },
  {
   "cell_type": "code",
   "execution_count": 28,
   "id": "e99824ff",
   "metadata": {},
   "outputs": [
    {
     "data": {
      "text/plain": [
       "array([[-0.16595599],\n",
       "       [ 0.44064899],\n",
       "       [-0.99977125]])"
      ]
     },
     "execution_count": 28,
     "metadata": {},
     "output_type": "execute_result"
    }
   ],
   "source": [
    "#Inislize the weights randomly (we have three)\n",
    "W = 2 * np.random.random ((3,1)) -1\n",
    "W"
   ]
  },
  {
   "cell_type": "code",
   "execution_count": 30,
   "id": "5aa3d255",
   "metadata": {},
   "outputs": [],
   "source": [
    "#Fix the seed so we will have always the same random values for each run\n",
    "np.random.seed(2)"
   ]
  },
  {
   "cell_type": "code",
   "execution_count": null,
   "id": "20dc2b27",
   "metadata": {},
   "outputs": [],
   "source": []
  },
  {
   "cell_type": "code",
   "execution_count": null,
   "id": "852e5fbe",
   "metadata": {},
   "outputs": [],
   "source": []
  }
 ],
 "metadata": {
  "kernelspec": {
   "display_name": "Python 3 (ipykernel)",
   "language": "python",
   "name": "python3"
  },
  "language_info": {
   "codemirror_mode": {
    "name": "ipython",
    "version": 3
   },
   "file_extension": ".py",
   "mimetype": "text/x-python",
   "name": "python",
   "nbconvert_exporter": "python",
   "pygments_lexer": "ipython3",
   "version": "3.9.13"
  }
 },
 "nbformat": 4,
 "nbformat_minor": 5
}
