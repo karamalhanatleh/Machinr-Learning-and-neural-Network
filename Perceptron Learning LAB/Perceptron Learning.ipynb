{
 "cells": [
  {
   "cell_type": "markdown",
   "id": "7f1b3031",
   "metadata": {},
   "source": [
    "# Perceptron Learning"
   ]
  },
  {
   "cell_type": "markdown",
   "id": "6f556342",
   "metadata": {},
   "source": [
    "In machine learning, the perceptron is an algorithm for supervised learning of binary classifiers\n",
    "\n",
    " A binary classifier is a function which can decide whether an input, represented by a vector of numbers, belongs to some specific class.\n",
    "It is a type of linear classifier, i.e.\n",
    "\n",
    " a classification algorithm that makes its predictions based on a linear predictor function combining a set of weights with the feature vector"
   ]
  },
  {
   "cell_type": "markdown",
   "id": "61cf09de",
   "metadata": {},
   "source": [
    "  "
   ]
  },
  {
   "cell_type": "markdown",
   "id": "b1b5b261",
   "metadata": {},
   "source": [
    "The task is to implement a simple perceptron to compute logical operations like AND, OR, and XOR.\n"
   ]
  },
  {
   "cell_type": "code",
   "execution_count": 3,
   "id": "e00e5423",
   "metadata": {},
   "outputs": [],
   "source": [
    "#import packages\n",
    "import numpy as np"
   ]
  },
  {
   "cell_type": "code",
   "execution_count": 4,
   "id": "79586f80",
   "metadata": {},
   "outputs": [],
   "source": [
    "##We can define this threshold function in Python as:\n",
    "def activation(z):\n",
    "    if z > 0:\n",
    "        return 1\n",
    "    return 0\n"
   ]
  },
  {
   "cell_type": "code",
   "execution_count": 5,
   "id": "5220df93",
   "metadata": {},
   "outputs": [
    {
     "name": "stdout",
     "output_type": "stream",
     "text": [
      "0 AND 0: 0\n",
      "1 AND 0: 0\n",
      "0 AND 1: 0\n",
      "1 AND 1: 1\n"
     ]
    }
   ],
   "source": [
    "##For AND we could implement a perceptron as:\n",
    "w = np.array([1, 1])\n",
    "b = -1\n",
    "x = np.array([0, 0])\n",
    "print(\"0 AND 0:\", activation(w.dot(x) + b))\n",
    "x = np.array([1, 0])\n",
    "print(\"1 AND 0:\", activation(w.dot(x) + b))\n",
    "x = np.array([0, 1])\n",
    "print(\"0 AND 1:\", activation(w.dot(x) + b))\n",
    "x = np.array([1, 1])\n",
    "print(\"1 AND 1:\", activation(w.dot(x) + b))"
   ]
  },
  {
   "cell_type": "code",
   "execution_count": null,
   "id": "c82d5d11",
   "metadata": {},
   "outputs": [],
   "source": []
  },
  {
   "cell_type": "code",
   "execution_count": 16,
   "id": "a0c5a65e",
   "metadata": {},
   "outputs": [
    {
     "name": "stdout",
     "output_type": "stream",
     "text": [
      "0 OR 0: 0\n",
      "1 OR 0: 1\n",
      "0 OR 1: 1\n",
      "1 OR 1: 1\n"
     ]
    }
   ],
   "source": [
    "##For OR we could implement a perceptron as:\n",
    "w = np.array([1, 1])\n",
    "b = 0\n",
    "x = np.array([0, 0])\n",
    "print(\"0 OR 0:\", activation(w.dot(x) + b))\n",
    "x = np.array([1, 0])\n",
    "print(\"1 OR 0:\", activation(w.dot(x) + b))\n",
    "x = np.array([0, 1])\n",
    "print(\"0 OR 1:\", activation(w.dot(x) + b))\n",
    "x = np.array([1, 1])\n",
    "print(\"1 OR 1:\", activation(w.dot(x) + b))"
   ]
  },
  {
   "cell_type": "code",
   "execution_count": null,
   "id": "21436e91",
   "metadata": {},
   "outputs": [],
   "source": []
  },
  {
   "cell_type": "code",
   "execution_count": 17,
   "id": "a349f5a7",
   "metadata": {},
   "outputs": [],
   "source": [
    "#With a different activation function and a different weight vector we can also solve the XOR\n",
    "#problem using Perceptron learning\n"
   ]
  },
  {
   "cell_type": "code",
   "execution_count": 19,
   "id": "a464f3c3",
   "metadata": {},
   "outputs": [],
   "source": [
    "##We can define this threshold function in Python as:\n",
    "def bactivation(z):\n",
    "    if z == 0.5:\n",
    "        return 1\n",
    "    else: return 0"
   ]
  },
  {
   "cell_type": "code",
   "execution_count": 20,
   "id": "8bcb31af",
   "metadata": {},
   "outputs": [
    {
     "name": "stdout",
     "output_type": "stream",
     "text": [
      "0 OR 0: 0\n",
      "1 OR 0: 1\n",
      "0 OR 1: 1\n",
      "1 OR 1: 0\n"
     ]
    }
   ],
   "source": [
    "##Then, the XOR can be implemented a perceptron as:\n",
    "w = np.array([0.5, 0.5])\n",
    "b = 0\n",
    "x = np.array([0, 0])\n",
    "print(\"0 OR 0:\", bactivation(w.dot(x) + b))\n",
    "x = np.array([1, 0])\n",
    "print(\"1 OR 0:\", bactivation(w.dot(x) + b))\n",
    "x = np.array([0, 1])\n",
    "print(\"0 OR 1:\", bactivation(w.dot(x) + b))\n",
    "x = np.array([1, 1])\n",
    "print(\"1 OR 1:\", bactivation(w.dot(x) + b))"
   ]
  },
  {
   "cell_type": "code",
   "execution_count": null,
   "id": "4241d29e",
   "metadata": {},
   "outputs": [],
   "source": []
  }
 ],
 "metadata": {
  "kernelspec": {
   "display_name": "Python 3 (ipykernel)",
   "language": "python",
   "name": "python3"
  },
  "language_info": {
   "codemirror_mode": {
    "name": "ipython",
    "version": 3
   },
   "file_extension": ".py",
   "mimetype": "text/x-python",
   "name": "python",
   "nbconvert_exporter": "python",
   "pygments_lexer": "ipython3",
   "version": "3.9.13"
  }
 },
 "nbformat": 4,
 "nbformat_minor": 5
}
