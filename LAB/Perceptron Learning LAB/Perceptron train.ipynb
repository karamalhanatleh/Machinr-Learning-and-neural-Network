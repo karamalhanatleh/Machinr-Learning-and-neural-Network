{
 "cells": [
  {
   "cell_type": "code",
   "execution_count": null,
   "id": "df353c69",
   "metadata": {},
   "outputs": [],
   "source": []
  },
  {
   "cell_type": "code",
   "execution_count": 1,
   "id": "ce3f4f2d",
   "metadata": {},
   "outputs": [],
   "source": [
    "import numpy as np"
   ]
  },
  {
   "cell_type": "code",
   "execution_count": 2,
   "id": "d4f56310",
   "metadata": {},
   "outputs": [],
   "source": [
    "def activation(z):\n",
    "    if z > 0 :\n",
    "        return 1\n",
    "    return 0"
   ]
  },
  {
   "cell_type": "markdown",
   "id": "8d99890d",
   "metadata": {},
   "source": [
    "### And"
   ]
  },
  {
   "cell_type": "code",
   "execution_count": 4,
   "id": "2d938f53",
   "metadata": {},
   "outputs": [],
   "source": [
    "w=np.array([1,1])\n",
    "b= -1"
   ]
  },
  {
   "cell_type": "code",
   "execution_count": 5,
   "id": "0a533bb0",
   "metadata": {},
   "outputs": [
    {
     "name": "stdout",
     "output_type": "stream",
     "text": [
      "0\n"
     ]
    }
   ],
   "source": [
    "x=np.array([0,0])\n",
    "print(activation(w.dot(x)+b))"
   ]
  },
  {
   "cell_type": "code",
   "execution_count": 6,
   "id": "3fcbcee7",
   "metadata": {},
   "outputs": [
    {
     "name": "stdout",
     "output_type": "stream",
     "text": [
      "0\n"
     ]
    }
   ],
   "source": [
    "x=  np.array([1,0])\n",
    "print(activation(w.dot(x)+b))"
   ]
  },
  {
   "cell_type": "code",
   "execution_count": 7,
   "id": "8bc71f2f",
   "metadata": {},
   "outputs": [
    {
     "name": "stdout",
     "output_type": "stream",
     "text": [
      "0\n"
     ]
    }
   ],
   "source": [
    "x=np.array([0,1])\n",
    "print(activation(w.dot(x)+b))"
   ]
  },
  {
   "cell_type": "code",
   "execution_count": 8,
   "id": "96c910d5",
   "metadata": {},
   "outputs": [
    {
     "name": "stdout",
     "output_type": "stream",
     "text": [
      "1\n"
     ]
    }
   ],
   "source": [
    "x=np.array([1,1])\n",
    "print(activation(w.dot(x)+b))"
   ]
  },
  {
   "cell_type": "code",
   "execution_count": null,
   "id": "6e44c0cb",
   "metadata": {},
   "outputs": [],
   "source": []
  },
  {
   "cell_type": "markdown",
   "id": "e0118e40",
   "metadata": {},
   "source": [
    "# Or"
   ]
  },
  {
   "cell_type": "code",
   "execution_count": 9,
   "id": "39ceb833",
   "metadata": {},
   "outputs": [],
   "source": [
    "w=np.array([1,1])\n",
    "b=0"
   ]
  },
  {
   "cell_type": "code",
   "execution_count": 12,
   "id": "f78220bb",
   "metadata": {
    "collapsed": true
   },
   "outputs": [
    {
     "data": {
      "text/plain": [
       "0"
      ]
     },
     "execution_count": 12,
     "metadata": {},
     "output_type": "execute_result"
    }
   ],
   "source": [
    "# (1*0 + 1*0 )+0 \n",
    "x=np.array([0,0])\n",
    "activation(w.dot(x)+b)"
   ]
  },
  {
   "cell_type": "code",
   "execution_count": 15,
   "id": "1542113d",
   "metadata": {},
   "outputs": [
    {
     "data": {
      "text/plain": [
       "1"
      ]
     },
     "execution_count": 15,
     "metadata": {},
     "output_type": "execute_result"
    }
   ],
   "source": [
    "# (1*1 + 1*0) + 0\n",
    "x=np.array([1,0])\n",
    "activation(w.dot(x)+b)"
   ]
  },
  {
   "cell_type": "code",
   "execution_count": 16,
   "id": "9099fee5",
   "metadata": {},
   "outputs": [
    {
     "data": {
      "text/plain": [
       "1"
      ]
     },
     "execution_count": 16,
     "metadata": {},
     "output_type": "execute_result"
    }
   ],
   "source": [
    "# (1*1 + 1*0) + 0\n",
    "x=np.array([0,1])\n",
    "activation(w.dot(x)+b)"
   ]
  },
  {
   "cell_type": "code",
   "execution_count": 17,
   "id": "99811a84",
   "metadata": {},
   "outputs": [
    {
     "data": {
      "text/plain": [
       "1"
      ]
     },
     "execution_count": 17,
     "metadata": {},
     "output_type": "execute_result"
    }
   ],
   "source": [
    "x=np.array([1,1])\n",
    "activation(w.dot(x)+b)"
   ]
  },
  {
   "cell_type": "code",
   "execution_count": null,
   "id": "ca5efbda",
   "metadata": {},
   "outputs": [],
   "source": []
  },
  {
   "cell_type": "markdown",
   "id": "7670eafe",
   "metadata": {},
   "source": [
    "With a different activation function and a different weight vector we can also solve the XOR\n",
    "#problem using Perceptron learning\n"
   ]
  },
  {
   "cell_type": "code",
   "execution_count": 18,
   "id": "511aeb62",
   "metadata": {},
   "outputs": [],
   "source": [
    "##We can define this threshold function in Python as:\n",
    "def bactivation(z):\n",
    "    if z == 0.5:\n",
    "        return 1\n",
    "    else: return 0"
   ]
  },
  {
   "cell_type": "markdown",
   "id": "d79defb4",
   "metadata": {},
   "source": [
    "# Xor"
   ]
  },
  {
   "cell_type": "code",
   "execution_count": 27,
   "id": "24389e8d",
   "metadata": {},
   "outputs": [],
   "source": [
    "w=np.array([0.5 , 0.5])\n",
    "b= 0                                            "
   ]
  },
  {
   "cell_type": "code",
   "execution_count": 28,
   "id": "9d29f848",
   "metadata": {},
   "outputs": [
    {
     "data": {
      "text/plain": [
       "0"
      ]
     },
     "execution_count": 28,
     "metadata": {},
     "output_type": "execute_result"
    }
   ],
   "source": [
    "x=np.array([0,0])\n",
    "bactivation(w.dot(x)+ b)"
   ]
  },
  {
   "cell_type": "code",
   "execution_count": 29,
   "id": "b6b11810",
   "metadata": {},
   "outputs": [
    {
     "data": {
      "text/plain": [
       "1"
      ]
     },
     "execution_count": 29,
     "metadata": {},
     "output_type": "execute_result"
    }
   ],
   "source": [
    "x=np.array([1,0])\n",
    "bactivation(w.dot(x)+b)"
   ]
  },
  {
   "cell_type": "code",
   "execution_count": 30,
   "id": "3cfe1926",
   "metadata": {},
   "outputs": [
    {
     "data": {
      "text/plain": [
       "1"
      ]
     },
     "execution_count": 30,
     "metadata": {},
     "output_type": "execute_result"
    }
   ],
   "source": [
    "x=np.array([0,1])\n",
    "bactivation(w.dot(x)+b)"
   ]
  },
  {
   "cell_type": "code",
   "execution_count": 31,
   "id": "b416e51c",
   "metadata": {},
   "outputs": [
    {
     "data": {
      "text/plain": [
       "0"
      ]
     },
     "execution_count": 31,
     "metadata": {},
     "output_type": "execute_result"
    }
   ],
   "source": [
    "x=np.array([1,1])\n",
    "bactivation(w.dot(x)+b)"
   ]
  },
  {
   "cell_type": "code",
   "execution_count": null,
   "id": "b6af9f69",
   "metadata": {},
   "outputs": [],
   "source": []
  }
 ],
 "metadata": {
  "kernelspec": {
   "display_name": "Python 3 (ipykernel)",
   "language": "python",
   "name": "python3"
  },
  "language_info": {
   "codemirror_mode": {
    "name": "ipython",
    "version": 3
   },
   "file_extension": ".py",
   "mimetype": "text/x-python",
   "name": "python",
   "nbconvert_exporter": "python",
   "pygments_lexer": "ipython3",
   "version": "3.9.13"
  }
 },
 "nbformat": 4,
 "nbformat_minor": 5
}
