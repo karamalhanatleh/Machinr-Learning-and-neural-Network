{
 "cells": [
  {
   "cell_type": "markdown",
   "id": "f83cbc79",
   "metadata": {},
   "source": [
    "# PERCEPTRON"
   ]
  },
  {
   "cell_type": "code",
   "execution_count": 22,
   "id": "0481864f",
   "metadata": {},
   "outputs": [],
   "source": [
    "#import\n",
    "import matplotlib.pyplot as plt\n",
    "from sklearn.datasets import make_blobs\n",
    "from sklearn.model_selection import train_test_split\n",
    "from sklearn.linear_model import Perceptron\n",
    "from sklearn.metrics import accuracy_score"
   ]
  },
  {
   "cell_type": "markdown",
   "id": "0bb5a49d",
   "metadata": {},
   "source": [
    "We will create with the help of make_blobs a binary dataset:"
   ]
  },
  {
   "cell_type": "code",
   "execution_count": 11,
   "id": "c4f64c9e",
   "metadata": {},
   "outputs": [
    {
     "data": {
      "image/png": "[encoded data removed]",
      "text/plain": [
       "<Figure size 640x480 with 1 Axes>"
      ]
     },
     "metadata": {},
     "output_type": "display_data"
    }
   ],
   "source": [
    "n_sample=50\n",
    "data,labels = make_blobs(n_samples=n_sample , centers=([1.1 ,3 ] , [4.5 , 6.9]) , random_state=0)\n",
    "colours=(\"green\",'orange')\n",
    "fig, ax = plt.subplots()\n",
    "for n_class in range(2):\n",
    "    ax.scatter(data[labels==n_class][:,0],data[labels==n_class][:,1] , c=colours[n_class],s=20 , label=str(n_class))"
   ]
  },
  {
   "cell_type": "code",
   "execution_count": null,
   "id": "7080bda9",
   "metadata": {},
   "outputs": [],
   "source": []
  },
  {
   "cell_type": "markdown",
   "id": "bb3944a7",
   "metadata": {},
   "source": [
    "We will split our dataset into a trainset and testset:\n"
   ]
  },
  {
   "cell_type": "code",
   "execution_count": 17,
   "id": "aa0c6a44",
   "metadata": {},
   "outputs": [],
   "source": [
    "datasets = train_test_split(data , labels , test_size=0.2)\n",
    "train_data ,test_data,train_labels , test_labels = datasets"
   ]
  },
  {
   "cell_type": "code",
   "execution_count": null,
   "id": "a82e2de0",
   "metadata": {},
   "outputs": [],
   "source": []
  },
  {
   "cell_type": "markdown",
   "id": "fe140426",
   "metadata": {},
   "source": [
    "We will use not the Perceptron class of sklearn.linear_model :"
   ]
  },
  {
   "cell_type": "code",
   "execution_count": 21,
   "id": "236502a8",
   "metadata": {},
   "outputs": [
    {
     "data": {
      "text/plain": [
       "Perceptron(random_state=42)"
      ]
     },
     "execution_count": 21,
     "metadata": {},
     "output_type": "execute_result"
    }
   ],
   "source": [
    "p=Perceptron(random_state=42)\n",
    "p.fit(train_data , train_labels)"
   ]
  },
  {
   "cell_type": "code",
   "execution_count": null,
   "id": "d00a8aa9",
   "metadata": {},
   "outputs": [],
   "source": []
  },
  {
   "cell_type": "markdown",
   "id": "9e9d6796",
   "metadata": {},
   "source": [
    "We can calculate predictions on the learnset (trainset) and testset and can evaluate the score:\n"
   ]
  },
  {
   "cell_type": "code",
   "execution_count": 29,
   "id": "2582e1f1",
   "metadata": {},
   "outputs": [],
   "source": [
    "predictions_train = p.predict(train_data)\n",
    "predictions_test = p.predict(test_data)"
   ]
  },
  {
   "cell_type": "code",
   "execution_count": 30,
   "id": "b56d54de",
   "metadata": {},
   "outputs": [
    {
     "name": "stdout",
     "output_type": "stream",
     "text": [
      "score on train data:  1.0\n"
     ]
    }
   ],
   "source": [
    "train_score = accuracy_score(predictions_train, train_labels)\n",
    "print(\"score on train data: \", train_score)"
   ]
  },
  {
   "cell_type": "code",
   "execution_count": 32,
   "id": "39d5449c",
   "metadata": {},
   "outputs": [
    {
     "name": "stdout",
     "output_type": "stream",
     "text": [
      "score on test data:  0.8\n"
     ]
    }
   ],
   "source": [
    "test_score = accuracy_score(predictions_test, test_labels)\n",
    "print(\"score on test data: \", test_score)"
   ]
  },
  {
   "cell_type": "code",
   "execution_count": null,
   "id": "25de7cc0",
   "metadata": {},
   "outputs": [],
   "source": []
  },
  {
   "cell_type": "code",
   "execution_count": null,
   "id": "84c4aeeb",
   "metadata": {},
   "outputs": [],
   "source": []
  },
  {
   "cell_type": "code",
   "execution_count": null,
   "id": "f8eafc40",
   "metadata": {},
   "outputs": [],
   "source": []
  },
  {
   "cell_type": "code",
   "execution_count": 34,
   "id": "01c4668f",
   "metadata": {},
   "outputs": [],
   "source": [
    "n_samples = 200"
   ]
  },
  {
   "cell_type": "code",
   "execution_count": 37,
   "id": "31c04796",
   "metadata": {},
   "outputs": [
    {
     "data": {
      "image/png": "[encoded data removed]",
      "text/plain": [
       "<Figure size 640x480 with 1 Axes>"
      ]
     },
     "metadata": {},
     "output_type": "display_data"
    }
   ],
   "source": [
    "blob_centers=( [1,1],[3,4],[1,3.3],[3.5 , 1.8])\n",
    "data_labels=make_blobs(n_samples=n_samples , centers=blob_centers , cluster_std=0.5 , random_state=0)\n",
    "colours=(\"green\",'orange','blue','magenta')\n",
    "\n",
    "fig, ax = plt.subplots()\n",
    "for n_class in range(len(blob_centers)):\n",
    "    ax.scatter(data[labels==n_class][:, 0], data[labels==n_class][:, 1], c=colours[n_class], s=30, label=str(n_class))\n"
   ]
  },
  {
   "cell_type": "code",
   "execution_count": null,
   "id": "1b998e31",
   "metadata": {},
   "outputs": [],
   "source": []
  }
 ],
 "metadata": {
  "kernelspec": {
   "display_name": "Python 3 (ipykernel)",
   "language": "python",
   "name": "python3"
  },
  "language_info": {
   "codemirror_mode": {
    "name": "ipython",
    "version": 3
   },
   "file_extension": ".py",
   "mimetype": "text/x-python",
   "name": "python",
   "nbconvert_exporter": "python",
   "pygments_lexer": "ipython3",
   "version": "3.9.13"
  }
 },
 "nbformat": 4,
 "nbformat_minor": 5
}
